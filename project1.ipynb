{
 "cells": [
  {
   "cell_type": "code",
   "execution_count": 4,
   "metadata": {},
   "outputs": [
    {
     "name": "stdout",
     "output_type": "stream",
     "text": [
      "\n",
      "     1.Aries \n",
      "     2.Taurus \n",
      "     3.Gemini \n",
      "     4.Cancer \n",
      "     5.Leo \n",
      "     6.Virgo \n",
      "     7.Libra \n",
      "     8.Scorpio \n",
      "     9.Sagittarius \n",
      "     10.Capricorn \n",
      "     11.Aquarius \n",
      "     12.Pisces\n",
      "    \n",
      "Enter the number corresponding to your zodiac sign :1\n",
      "Today, the stars put you on high alert... and not for nothing. You will save yourself from being swindled. Though you will easily manage to stay ahead of others, you may make a few enemies on your way. It's not a good day if you're looking to buy a house or vehicle, says Ganesha.\n",
      "If you want to check it again please enter Y otherwise enter N : Y\n",
      "\n",
      "     1.Aries \n",
      "     2.Taurus \n",
      "     3.Gemini \n",
      "     4.Cancer \n",
      "     5.Leo \n",
      "     6.Virgo \n",
      "     7.Libra \n",
      "     8.Scorpio \n",
      "     9.Sagittarius \n",
      "     10.Capricorn \n",
      "     11.Aquarius \n",
      "     12.Pisces\n",
      "    \n",
      "Enter the number corresponding to your zodiac sign :2\n",
      "Your enthusiasm will be as contagious as your smile today, predicts Ganesha. People will stand charmed by your high spirits. There will be stressful moments, but things will look up later in the day. Take some time off if things get too hectic for you.\n",
      "If you want to check it again please enter Y otherwise enter N : N\n"
     ]
    }
   ],
   "source": [
    "repeat='Y'\n",
    "while(repeat=='Y'):\n",
    "    print('''\n",
    "     1.Aries \n",
    "     2.Taurus \n",
    "     3.Gemini \n",
    "     4.Cancer \n",
    "     5.Leo \n",
    "     6.Virgo \n",
    "     7.Libra \n",
    "     8.Scorpio \n",
    "     9.Sagittarius \n",
    "     10.Capricorn \n",
    "     11.Aquarius \n",
    "     12.Pisces\n",
    "    ''')\n",
    "    n= int(input(\"Enter the number corresponding to your zodiac sign :\"))\n",
    "    if(n==1):\n",
    "        print(\"Today, the stars put you on high alert... and not for nothing. You will save yourself from being swindled. Though you will easily manage to stay ahead of others, you may make a few enemies on your way. It's not a good day if you're looking to buy a house or vehicle, says Ganesha.\")\n",
    "    elif(n==2):\n",
    "        print(\"Your enthusiasm will be as contagious as your smile today, predicts Ganesha. People will stand charmed by your high spirits. There will be stressful moments, but things will look up later in the day. Take some time off if things get too hectic for you.\")\n",
    "    elif(n==3):\n",
    "        print(\"Bosses will assign new responsibilities to you, predicts Ganesha. Your daytime distress, however, will transform into jubilation by the end of the day's work, as you will be able to produce brilliant results. Ganesha advises you to delay bidding for tenders by a few days.\")\n",
    "    elif(n==4):\n",
    "        print(\"You may be in one of your more frivolous moods today, foresees Ganesha. Gossip, fun, laughter and some harmless flirting shall make your day interesting, yet these are not the pastimes you usually enjoy. Hence, as the day rolls on, you shall find yourself to your reserved, reticent self concentrating hard on getting the work done to make way for the early evening gym/ driving class. Good going, after all finding balance is just the right thing to do.\")\n",
    "    elif(n==5):\n",
    "        print(\"Talk of being busy! It seems like today, you shall take the cake, and perhaps, be the icing on it as well, says Ganesha. It is likely that the day is going to be very hectic for you in terms of work and business. You may be engaged in official conversations and dealings. Also, don't be surprised to find yourself in meetings as you attempt to take stock of your business situation. After such a long and tiring day, it is only normal for you to unwind later in the evening with your sweetheart, feels Ganesha.\")\n",
    "    elif(n==6):\n",
    "        print(\"The booster rockets of your ambitions and spirit to work will kick in at the maximum today. Seek recreation after a hard day's work and look to relax at private parties, social-dos and even weddings, says Ganesha.\")\n",
    "    elif(n==7):\n",
    "        print(\"You may not have been crowned ‘Employee Of The Month', but do not let that distract you from the fact that today, you are the brightest star in office. Be prepared to get some special treatment at work, as your bosses shower praise on you. Apart from that, a lot of tangible and intangible benefits await you. Ganesha advises you against complacency of any sort if you want the key to the executive wash room.\")\n",
    "    elif(n==8):\n",
    "        print(\"You shall probably realise the fact that seeing is believing. Learn to trust your own eyes more than what you hear. Don't get lost in the crowd, warns Ganesha. Strive to stand out and be in the spotlight, advises Ganesha.\")\n",
    "    elif(n==9):\n",
    "        print(\"Round and round they tumble, the wheels of life, smoothly gliding into a routine. You may spend your day in discontent due to the rut of regular activities. Sadly, there is little hope or adventure Ganesha foresees that might make this day worthwhile for you. There will be glimpses of excitement in the evening but on the whole, it will be nothing to write home about.\")\n",
    "    elif(n==10):\n",
    "        print(\"Duping the wisest with your extraordinary power of convincing may have been your forte, but you may have to prove yourself all over again, for Ganesha says you will be tested today. This apart, you are likely to find answers to questions lingering in your subconscious mind for long. The outburst of creativity in the second half of the day will draw the attention of your peers, and this will also be the best time to seek their support, advises Ganesha.\")\n",
    "    elif(n==11):\n",
    "        print(\"For a moment, it seems that you're swamped with problems. But you are brave enough to deal with any ugly issue that crops up suddenly. Ganesha hints at a romantic evening, which may just be time together in a jacuzzi, or simply preparing a meal together. Pure ecstasy!\")\n",
    "    elif(n==12):\n",
    "        print(\"All the dieting that you have been undergoing will finally begin to show results, with compliments galore coming your way from your friends. Your energy and enthusiasm levels are likely to be high. A bright and beautiful day waits, says Ganesha.\")\n",
    "    else:\n",
    "        print(\"Please enter a valid number\")\n",
    "    \n",
    "    repeat='Y' if input(\"If you want to check it again please enter Y otherwise enter N : \")==\"Y\" else 'N'"
   ]
  }
 ],
 "metadata": {
  "kernelspec": {
   "display_name": "Python 3",
   "language": "python",
   "name": "python3"
  },
  "language_info": {
   "codemirror_mode": {
    "name": "ipython",
    "version": 3
   },
   "file_extension": ".py",
   "mimetype": "text/x-python",
   "name": "python",
   "nbconvert_exporter": "python",
   "pygments_lexer": "ipython3",
   "version": "3.7.6"
  }
 },
 "nbformat": 4,
 "nbformat_minor": 4
}
